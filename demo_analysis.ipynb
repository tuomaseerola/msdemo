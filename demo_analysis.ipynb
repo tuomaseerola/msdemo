{
  "cells": [
    {
      "cell_type": "markdown",
      "metadata": {
        "id": "view-in-github",
        "colab_type": "text"
      },
      "source": [
        "<a href=\"https://colab.research.google.com/github/tuomaseerola/msdemo/blob/main/demo_analysis.ipynb\" target=\"_parent\"><img src=\"https://colab.research.google.com/assets/colab-badge.svg\" alt=\"Open In Colab\"/></a>"
      ]
    },
    {
      "cell_type": "raw",
      "metadata": {
        "id": "mf9t3IkEm_Sl"
      },
      "source": [
        "## Analysis of emotion categories\n"
      ]
    },
    {
      "cell_type": "code",
      "source": [
        "library(tidyverse)\n",
        "library(readr)\n",
        "library(knitr)"
      ],
      "metadata": {
        "id": "raV2IBionw-u"
      },
      "execution_count": 60,
      "outputs": []
    },
    {
      "cell_type": "markdown",
      "source": [
        "## Read Qualtrics data"
      ],
      "metadata": {
        "id": "ZWOGPAZQoDNc"
      }
    },
    {
      "cell_type": "code",
      "source": [
        "myfile <- \"https://raw.github.com/tuomaseerola/msdemo/main/filtered_data_wide.csv\"\n",
        "data <- read_csv(myfile)\n",
        "d<-data.frame(data)\n",
        "d$Progress<-as.numeric(d$Progress)\n",
        "d2<-dplyr::filter(d,Progress>80) # Filter out the unfinished surveys\n",
        "nrow(d2)\n",
        "d2$Age <- as.numeric(d2$Age)\n",
        "d2<-dplyr::filter(d,Age>17) # Filter out anybody under 18\n",
        "nrow(d2)"
      ],
      "metadata": {
        "colab": {
          "base_uri": "https://localhost:8080/",
          "height": 230
        },
        "id": "CKYSzjzCoFq8",
        "outputId": "f4e95793-75fd-4963-ce7b-1a136acf9b3c"
      },
      "execution_count": 61,
      "outputs": [
        {
          "output_type": "stream",
          "name": "stderr",
          "text": [
            "\u001b[1mRows: \u001b[22m\u001b[34m70\u001b[39m \u001b[1mColumns: \u001b[22m\u001b[34m49\u001b[39m\n",
            "\u001b[36m──\u001b[39m \u001b[1mColumn specification\u001b[22m \u001b[36m────────────────────────────────────────────────────────\u001b[39m\n",
            "\u001b[1mDelimiter:\u001b[22m \",\"\n",
            "\u001b[31mchr\u001b[39m  (37): Status, ResponseId, DistributionChannel, UserLanguage, Consent, G...\n",
            "\u001b[32mdbl\u001b[39m   (5): Progress, Duration..in.seconds., LocationLatitude, LocationLongit...\n",
            "\u001b[33mlgl\u001b[39m   (6): Finished, RecipientLastName, RecipientFirstName, RecipientEmail, ...\n",
            "\u001b[34mdttm\u001b[39m  (1): RecordedDate\n",
            "\n",
            "\u001b[36mℹ\u001b[39m Use `spec()` to retrieve the full column specification for this data.\n",
            "\u001b[36mℹ\u001b[39m Specify the column types or set `show_col_types = FALSE` to quiet this message.\n"
          ]
        },
        {
          "output_type": "display_data",
          "data": {
            "text/html": [
              "70"
            ],
            "text/markdown": "70",
            "text/latex": "70",
            "text/plain": [
              "[1] 70"
            ]
          },
          "metadata": {}
        },
        {
          "output_type": "display_data",
          "data": {
            "text/html": [
              "69"
            ],
            "text/markdown": "69",
            "text/latex": "69",
            "text/plain": [
              "[1] 69"
            ]
          },
          "metadata": {}
        }
      ]
    },
    {
      "cell_type": "markdown",
      "source": [
        "### Convert data to long format for easier analysis"
      ],
      "metadata": {
        "id": "mXxf655Ru9Bd"
      }
    },
    {
      "cell_type": "markdown",
      "source": [],
      "metadata": {
        "id": "PcTQOGnZv6Xa"
      }
    },
    {
      "cell_type": "code",
      "source": [
        "# pivot\n",
        "df <- pivot_longer(d2, cols = Q1:Q25, names_to = \"Item\", values_to = \"Answer\")\n",
        "\n",
        "# Add stimulus details\n",
        "dur <- c(150,150,150,150,150,250,250,250,250,250,500,500,500,500,500,1000,1000,1000,1000,1000,\"full length\",\"full length\",\"full length\",\"full length\",\"full length\")\n",
        "emotion<-c(\"Fear\",\"Anger\",\"Tenderness\",\"Happiness\",\"Sadness\",\"Sadness\",\"Happiness\",\"Tenderness\",\"Fear\",\"Anger\",\"Anger\",\"Tenderness\",\"Fear\",\"Sadness\",\"Happiness\",\"Fear\",\"Happiness\",\"Sadness\",\"Tenderness\",\"Anger\",\"Sadness\",\"Happiness\",\"Tenderness\",\"Anger\",\"Fear\")\n",
        "df$Duration<-rep(dur,nrow(d2))\n",
        "df$Correct<-rep(emotion,nrow(d2))\n",
        "df$Correctness<-ifelse(df$Answer==df$Correct,1,0) # calculate correctness\n",
        "\n",
        "#write_csv(df,\"processed_data.csv\") # export long data\n",
        "\n",
        "# Explicitly code empty values as missing data (NA)\n",
        "df$Answer[df$Answer==\"\"]<-NA\n",
        "df$Answer<-factor(df$Answer)\n",
        "df$Correct<-factor(df$Correct)\n",
        "df$Duration<-factor(df$Duration,levels = c(150,250,500,1000,\"full length\"))"
      ],
      "metadata": {
        "id": "UlTAi7q9vBlP"
      },
      "execution_count": 62,
      "outputs": []
    },
    {
      "cell_type": "markdown",
      "source": [
        "## Analysis\n",
        "\n",
        "### Confusion matrix\n"
      ],
      "metadata": {
        "id": "UcQnBl2Kv7Tf"
      }
    },
    {
      "cell_type": "code",
      "source": [
        "t <- table(df$Answer,df$Correct)\n",
        "print(knitr::kable(t))\n",
        "\n",
        "t<-table(df$Duration,df$Correctness)\n",
        "knitr::kable(t[,2]/350,digits = 2)\n",
        "\n",
        "t<-table(df$Correct,df$Correctness)\n",
        "knitr::kable(t[,2]/350,digits = 2)"
      ],
      "metadata": {
        "colab": {
          "base_uri": "https://localhost:8080/",
          "height": 499
        },
        "id": "FMTtj5e1v_4I",
        "outputId": "9d14f145-b49f-40c5-aac9-894bd3026067"
      },
      "execution_count": 63,
      "outputs": [
        {
          "output_type": "stream",
          "name": "stdout",
          "text": [
            "\n",
            "\n",
            "|           | Anger| Fear| Happiness| Sadness| Tenderness|\n",
            "|:----------|-----:|----:|---------:|-------:|----------:|\n",
            "|Anger      |   202|   27|        54|      14|          1|\n",
            "|Fear       |   105|  263|        32|      40|          9|\n",
            "|Happiness  |    16|   13|       203|      34|         44|\n",
            "|Sadness    |     8|   20|        24|     198|        114|\n",
            "|Tenderness |     1|    6|        23|      50|        165|\n"
          ]
        },
        {
          "output_type": "display_data",
          "data": {
            "text/plain": [
              "\n",
              "\n",
              "|            |    x|\n",
              "|:-----------|----:|\n",
              "|150         | 0.37|\n",
              "|250         | 0.47|\n",
              "|500         | 0.67|\n",
              "|1000        | 0.70|\n",
              "|full length | 0.74|"
            ]
          },
          "metadata": {}
        },
        {
          "output_type": "display_data",
          "data": {
            "text/plain": [
              "\n",
              "\n",
              "|           |    x|\n",
              "|:----------|----:|\n",
              "|Anger      | 0.58|\n",
              "|Fear       | 0.75|\n",
              "|Happiness  | 0.58|\n",
              "|Sadness    | 0.57|\n",
              "|Tenderness | 0.47|"
            ]
          },
          "metadata": {}
        }
      ]
    },
    {
      "cell_type": "markdown",
      "source": [
        "Here are the results of the chi-square tests for the overall accuracy and for each emotion and duration separately. In the first calculation on Friday, I didn't adjust adjust the baseline probabilities of these chi-square tests. The probability of guessing correctly is 0.2 (1 was correct emotion out of 5 candidates), so I have altered the analyses to compare the fails (0) and successes (1) to the baseline of 0.8 (for fails) and 0.2 (for successes). You can see this in the code below\n",
        "\n",
        "```chisq.test(t, p = c(0.8,0.2))```\n",
        "where the `chisq.test` is the chi-square test function in R, `t` is the table of observed frequencies, and `p` is the vector of expected probabilities."
      ],
      "metadata": {
        "id": "K9ubcyKCwjbd"
      }
    },
    {
      "cell_type": "code",
      "source": [
        "# Overall accuracy\n",
        "t <- table(df$Correctness)\n",
        "print(t)\n",
        "# the probability of guessing correctly is 0.2\n",
        "print(chisq.test(t,p = c(0.8,0.2)))\n",
        "\n",
        "# Across all emotions\n",
        "t <- table(df$Correct,df$Correctness)\n",
        "chisq.test(t)\n",
        "\n",
        "# for each emotion separately\n",
        "chisq.test(t[1,], p = c(0.8,0.2)) # Anger\n",
        "chisq.test(t[2,], p = c(0.8,0.2)) # Fear\n",
        "chisq.test(t[3,], p = c(0.8,0.2)) # Happiness\n",
        "chisq.test(t[4,], p = c(0.8,0.2)) # Sadness\n",
        "chisq.test(t[5,], p = c(0.8,0.2)) # Tenderness"
      ],
      "metadata": {
        "colab": {
          "base_uri": "https://localhost:8080/",
          "height": 714
        },
        "id": "K0rog537wkYa",
        "outputId": "18d47141-5d2c-4db4-efdf-ac1c0bd98eca"
      },
      "execution_count": 64,
      "outputs": [
        {
          "output_type": "stream",
          "name": "stdout",
          "text": [
            "\n",
            "   0    1 \n",
            " 635 1031 \n",
            "\n",
            "\tChi-squared test for given probabilities\n",
            "\n",
            "data:  t\n",
            "X-squared = 1826.7, df = 1, p-value < 2.2e-16\n",
            "\n"
          ]
        },
        {
          "output_type": "display_data",
          "data": {
            "text/plain": [
              "\n",
              "\tPearson's Chi-squared test\n",
              "\n",
              "data:  t\n",
              "X-squared = 68.651, df = 4, p-value = 4.372e-14\n"
            ]
          },
          "metadata": {}
        },
        {
          "output_type": "display_data",
          "data": {
            "text/plain": [
              "\n",
              "\tChi-squared test for given probabilities\n",
              "\n",
              "data:  t[1, ]\n",
              "X-squared = 346.15, df = 1, p-value < 2.2e-16\n"
            ]
          },
          "metadata": {}
        },
        {
          "output_type": "display_data",
          "data": {
            "text/plain": [
              "\n",
              "\tChi-squared test for given probabilities\n",
              "\n",
              "data:  t[2, ]\n",
              "X-squared = 738.75, df = 1, p-value < 2.2e-16\n"
            ]
          },
          "metadata": {}
        },
        {
          "output_type": "display_data",
          "data": {
            "text/plain": [
              "\n",
              "\tChi-squared test for given probabilities\n",
              "\n",
              "data:  t[3, ]\n",
              "X-squared = 343.04, df = 1, p-value < 2.2e-16\n"
            ]
          },
          "metadata": {}
        },
        {
          "output_type": "display_data",
          "data": {
            "text/plain": [
              "\n",
              "\tChi-squared test for given probabilities\n",
              "\n",
              "data:  t[4, ]\n",
              "X-squared = 318.24, df = 1, p-value < 2.2e-16\n"
            ]
          },
          "metadata": {}
        },
        {
          "output_type": "display_data",
          "data": {
            "text/plain": [
              "\n",
              "\tChi-squared test for given probabilities\n",
              "\n",
              "data:  t[5, ]\n",
              "X-squared = 181.73, df = 1, p-value < 2.2e-16\n"
            ]
          },
          "metadata": {}
        }
      ]
    },
    {
      "cell_type": "markdown",
      "source": [
        "\n",
        "### Across durations"
      ],
      "metadata": {
        "id": "6fpDIcoFwqrS"
      }
    },
    {
      "cell_type": "code",
      "source": [
        "# Across all durations\n",
        "t <- table(df$Duration,df$Correctness)\n",
        "chisq.test(t)\n",
        "\n",
        "# Across each duration separately\n",
        "# all significant below p<0.001 level!\n",
        "chisq.test(t[1,], p = c(0.8,0.2)) # 150ms\n",
        "chisq.test(t[2,], p = c(0.8,0.2)) # 250ms\n",
        "chisq.test(t[3,], p = c(0.8,0.2)) # 500ms\n",
        "chisq.test(t[4,], p = c(0.8,0.2)) # 1000ms\n",
        "chisq.test(t[5,], p = c(0.8,0.2)) # full length"
      ],
      "metadata": {
        "colab": {
          "base_uri": "https://localhost:8080/",
          "height": 553
        },
        "id": "ncAxTR6hwrS7",
        "outputId": "0c46f321-23c1-4e92-aabc-56857c5c9cce"
      },
      "execution_count": 65,
      "outputs": [
        {
          "output_type": "display_data",
          "data": {
            "text/plain": [
              "\n",
              "\tPearson's Chi-squared test\n",
              "\n",
              "data:  t\n",
              "X-squared = 169.17, df = 4, p-value < 2.2e-16\n"
            ]
          },
          "metadata": {}
        },
        {
          "output_type": "display_data",
          "data": {
            "text/plain": [
              "\n",
              "\tChi-squared test for given probabilities\n",
              "\n",
              "data:  t[1, ]\n",
              "X-squared = 75.442, df = 1, p-value < 2.2e-16\n"
            ]
          },
          "metadata": {}
        },
        {
          "output_type": "display_data",
          "data": {
            "text/plain": [
              "\n",
              "\tChi-squared test for given probabilities\n",
              "\n",
              "data:  t[2, ]\n",
              "X-squared = 173.06, df = 1, p-value < 2.2e-16\n"
            ]
          },
          "metadata": {}
        },
        {
          "output_type": "display_data",
          "data": {
            "text/plain": [
              "\n",
              "\tChi-squared test for given probabilities\n",
              "\n",
              "data:  t[3, ]\n",
              "X-squared = 505.86, df = 1, p-value < 2.2e-16\n"
            ]
          },
          "metadata": {}
        },
        {
          "output_type": "display_data",
          "data": {
            "text/plain": [
              "\n",
              "\tChi-squared test for given probabilities\n",
              "\n",
              "data:  t[4, ]\n",
              "X-squared = 594.22, df = 1, p-value < 2.2e-16\n"
            ]
          },
          "metadata": {}
        },
        {
          "output_type": "display_data",
          "data": {
            "text/plain": [
              "\n",
              "\tChi-squared test for given probabilities\n",
              "\n",
              "data:  t[5, ]\n",
              "X-squared = 727.5, df = 1, p-value < 2.2e-16\n"
            ]
          },
          "metadata": {}
        }
      ]
    },
    {
      "cell_type": "markdown",
      "source": [
        "### Across musicianship levels"
      ],
      "metadata": {
        "id": "pNPrFQUPwuPz"
      }
    },
    {
      "cell_type": "code",
      "source": [
        "t <- table(df$Musicianship,df$Correctness)\n",
        "knitr::kable(t[,2]/rowSums(t),digits = 2)\n",
        "\n",
        "# recode musicians into non-musicians and musicians\n",
        "df$Musicianship <- factor(df$Musicianship,levels=c(\"Nonmusician\",\"Music-loving nonmusician\",\"Amateur musician\",\"Serious amateur musician\",\"Semi-professional musician\"),labels = c(\"Non-musician\",\"Non-musician\",\"Musician\",\"Musician\",\"Musician\"))\n",
        "t <- table(df$Musicianship,df$Correctness)\n",
        "knitr::kable(t[,2]/rowSums(t),digits = 2)\n",
        "\n",
        "chisq.test(t[1,], p = c(0.8,0.2)) # non-musicians\n",
        "chisq.test(t[2,], p = c(0.8,0.2)) # musicians"
      ],
      "metadata": {
        "colab": {
          "base_uri": "https://localhost:8080/",
          "height": 463
        },
        "id": "YfMVHfI6wutX",
        "outputId": "ec2bad68-5a8f-4ad5-b029-2fcd77de8ced"
      },
      "execution_count": 66,
      "outputs": [
        {
          "output_type": "display_data",
          "data": {
            "text/plain": [
              "\n",
              "\n",
              "|                           |    x|\n",
              "|:--------------------------|----:|\n",
              "|Amateur musician           | 0.66|\n",
              "|Music-loving nonmusician   | 0.57|\n",
              "|Nonmusician                | 0.63|\n",
              "|Semi-professional musician | 0.56|\n",
              "|Serious amateur musician   | 0.66|"
            ]
          },
          "metadata": {}
        },
        {
          "output_type": "display_data",
          "data": {
            "text/plain": [
              "\n",
              "\n",
              "|             |    x|\n",
              "|:------------|----:|\n",
              "|Non-musician | 0.58|\n",
              "|Musician     | 0.66|"
            ]
          },
          "metadata": {}
        },
        {
          "output_type": "display_data",
          "data": {
            "text/plain": [
              "\n",
              "\tChi-squared test for given probabilities\n",
              "\n",
              "data:  t[1, ]\n",
              "X-squared = 686.56, df = 1, p-value < 2.2e-16\n"
            ]
          },
          "metadata": {}
        },
        {
          "output_type": "display_data",
          "data": {
            "text/plain": [
              "\n",
              "\tChi-squared test for given probabilities\n",
              "\n",
              "data:  t[2, ]\n",
              "X-squared = 1155.9, df = 1, p-value < 2.2e-16\n"
            ]
          },
          "metadata": {}
        }
      ]
    }
  ],
  "metadata": {
    "kernelspec": {
      "display_name": "R",
      "name": "ir"
    },
    "colab": {
      "provenance": [],
      "include_colab_link": true
    },
    "language_info": {
      "name": "R"
    }
  },
  "nbformat": 4,
  "nbformat_minor": 0
}